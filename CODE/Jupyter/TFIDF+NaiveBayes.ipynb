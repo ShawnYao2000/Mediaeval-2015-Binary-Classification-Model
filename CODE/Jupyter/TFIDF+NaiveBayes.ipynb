{
 "cells": [
  {
   "cell_type": "markdown",
   "source": [],
   "metadata": {
    "collapsed": false
   },
   "id": "4afb8ba9250efa85"
  },
  {
   "cell_type": "markdown",
   "source": [
    "#TF-IDF + Naïve Bayes script\n",
    "##Preprocessing\n",
    "Import statements"
   ],
   "metadata": {
    "collapsed": false
   },
   "id": "2a23dcc0544b0132"
  },
  {
   "cell_type": "code",
   "execution_count": 33,
   "outputs": [],
   "source": [
    "import pandas as pd\n",
    "import re\n",
    "from nltk import WordNetLemmatizer, word_tokenize, download\n",
    "from nltk.corpus import stopwords\n",
    "import numpy as np\n",
    "from sklearn.feature_extraction.text import TfidfVectorizer\n",
    "from sklearn.naive_bayes import MultinomialNB\n",
    "from sklearn.pipeline import Pipeline\n",
    "from sklearn.metrics import accuracy_score, classification_report, precision_recall_curve\n",
    "from sklearn.utils.class_weight import compute_class_weight\n",
    "from sklearn.metrics import confusion_matrix\n",
    "from sklearn.model_selection import GridSearchCV\n",
    "from sklearn.preprocessing import label_binarize\n",
    "import matplotlib.pyplot as plt\n",
    "import seaborn as sns"
   ],
   "metadata": {
    "collapsed": false,
    "ExecuteTime": {
     "end_time": "2024-01-12T01:26:15.295464Z",
     "start_time": "2024-01-12T01:26:15.272381Z"
    }
   },
   "id": "9dff6bd44a4451e4"
  },
  {
   "cell_type": "markdown",
   "source": [
    "download the majority of languages in the dataset as a set, then create a union of them for further sanitation."
   ],
   "metadata": {
    "collapsed": false
   },
   "id": "c643a4dd0188a231"
  },
  {
   "cell_type": "code",
   "execution_count": 34,
   "outputs": [
    {
     "name": "stderr",
     "output_type": "stream",
     "text": [
      "[nltk_data] Downloading package stopwords to /Users/mac/nltk_data...\n",
      "[nltk_data]   Package stopwords is already up-to-date!\n"
     ]
    }
   ],
   "source": [
    "download('stopwords')\n",
    "# Create individual sets for each language's stopwords\n",
    "english_stopwords = set(stopwords.words('english'))\n",
    "spanish_stopwords = set(stopwords.words('spanish'))\n",
    "french_stopwords = set(stopwords.words('french'))\n",
    "italian_stopwords = set(stopwords.words('italian'))\n",
    "portuguese_stopwords = set(stopwords.words('portuguese'))\n",
    "finnish_stopwords = set(stopwords.words('finnish'))\n",
    "swedish_stopwords = set(stopwords.words('swedish'))\n",
    "catalan_stopwords = set(stopwords.words('catalan'))\n",
    "hungarian_stopwords = set(stopwords.words('hungarian'))\n",
    "\n",
    "# Use the union method to combine all the sets\n",
    "stop_words = english_stopwords.union(spanish_stopwords, french_stopwords, italian_stopwords, portuguese_stopwords, finnish_stopwords, swedish_stopwords, catalan_stopwords, hungarian_stopwords)"
   ],
   "metadata": {
    "collapsed": false,
    "ExecuteTime": {
     "end_time": "2024-01-12T01:26:15.389394Z",
     "start_time": "2024-01-12T01:26:15.283552Z"
    }
   },
   "id": "7cd6149733b57ec9"
  },
  {
   "cell_type": "markdown",
   "source": [
    "define the file paths"
   ],
   "metadata": {
    "collapsed": false
   },
   "id": "b3493b032ed3ad55"
  },
  {
   "cell_type": "code",
   "execution_count": 35,
   "outputs": [],
   "source": [
    "# File paths\n",
    "train_file_path = \"mediaeval-2015-trainingset.txt\"\n",
    "test_file_path = \"mediaeval-2015-testset.txt\""
   ],
   "metadata": {
    "collapsed": false,
    "ExecuteTime": {
     "end_time": "2024-01-12T01:26:15.390064Z",
     "start_time": "2024-01-12T01:26:15.389130Z"
    }
   },
   "id": "ca33ef9b69144e43"
  },
  {
   "cell_type": "markdown",
   "source": [
    "1.define the pattern of emojis\n",
    "2.preprocess_text:\n",
    "replace all urls with a placeholder [U] by pattern matching\n",
    "convert all texts to lower case\n",
    "tokenize and lemmatize all the texts\n",
    "remove all extra white spaces"
   ],
   "metadata": {
    "collapsed": false
   },
   "id": "73d487ce88bdfc39"
  },
  {
   "cell_type": "code",
   "execution_count": 36,
   "outputs": [],
   "source": [
    "emoji_pattern = re.compile(\"[\"\n",
    "        u\"\\U0001F600-\\U0001F64F\"  # emoticons\n",
    "        u\"\\U0001F300-\\U0001F5FF\"  # symbols & pictographs\n",
    "        u\"\\U0001F680-\\U0001F6FF\"  # transport & map symbols\n",
    "        u\"\\U0001F1E0-\\U0001F1FF\"  # flags (iOS)\n",
    "                           \"]+\", flags=re.UNICODE)\n",
    "\n",
    "def preprocess_text(text):\n",
    "    # Replace URLs with a placeholder\n",
    "    text = re.sub(r'http\\S+|www\\S+|https\\S+', '[U]', text, flags=re.MULTILINE)\n",
    "    # Replace emojis with ~\n",
    "    text = emoji_pattern.sub('~', text)\n",
    "    # Replace non ascii with\n",
    "    #text = re.sub(r'[^\\x00-\\x7F]+', '', text)\n",
    "    text = text.lower()\n",
    "    # Tokenize the text\n",
    "    words = word_tokenize(text)\n",
    "    # Remove stopwords\n",
    "    words = [word for word in words if word not in stop_words]\n",
    "    # Lemmatization\n",
    "    lemmatizer = WordNetLemmatizer()\n",
    "    lemmatized_words = [lemmatizer.lemmatize(word) for word in words]\n",
    "    text = ' '.join(lemmatized_words)\n",
    "    # Remove extra whitespaces\n",
    "    text = text.strip()\n",
    "    return text"
   ],
   "metadata": {
    "collapsed": false,
    "ExecuteTime": {
     "end_time": "2024-01-12T01:26:15.392932Z",
     "start_time": "2024-01-12T01:26:15.391775Z"
    }
   },
   "id": "6f464b289e5cdcc5"
  },
  {
   "cell_type": "markdown",
   "source": [
    "generate_image_id_mapping:\n",
    "for all imageId(s), in the form of <event>_<label(real/fake)>_<number>, convert them to a dictionary where they are encoded to numbers as the original id could introduce noice to the data.\n",
    "load_and_process_data:\n",
    "read all data\n",
    "for tweetText, after sanitation if they are empty, fill them with ''\n",
    "replace all humor labels with fake\n",
    "load all the data and concat them to a string, seperating each attribute with <\n",
    "return training data as X_train, label as y_train\n",
    "return testing data as X_test, label as y_test"
   ],
   "metadata": {
    "collapsed": false
   },
   "id": "617e26b0ec850ee1"
  },
  {
   "cell_type": "code",
   "execution_count": 37,
   "outputs": [],
   "source": [
    "def generate_image_id_mapping(data):\n",
    "    unique_image_ids = data['imageId(s)'].unique()\n",
    "    image_id_dict = {id: f\"{i}\" for i, id in enumerate(unique_image_ids, start=1)}\n",
    "    return image_id_dict\n",
    "\n",
    "def load_and_preprocess_data():\n",
    "    # Load training dataset\n",
    "    train_data = pd.read_csv(train_file_path, sep='\\t')\n",
    "    # Handle NaN values for tweetText\n",
    "    train_data['tweetText'] = train_data['tweetText'].fillna('')\n",
    "\n",
    "    # Load testing dataset\n",
    "    test_data = pd.read_csv(test_file_path, sep='\\t')\n",
    "    test_data['tweetText'] = test_data['tweetText'].fillna('')\n",
    "\n",
    "    # Generate image ID mapping from combined dataset\n",
    "    combined_data = pd.concat([train_data, test_data])\n",
    "    image_id_dict = generate_image_id_mapping(combined_data)\n",
    "\n",
    "    # Replace image IDs with generated IDs in training data\n",
    "    train_data['imageId(s)'] = train_data['imageId(s)'].map(image_id_dict)\n",
    "    # Preprocess text and replace labels in training dataset\n",
    "    train_data['tweetText'] = train_data['tweetText'].apply(preprocess_text)\n",
    "    train_data['label'] = train_data['label'].replace('humor', 'fake')\n",
    "    # Select relevant columns for features\n",
    "    X_train = train_data['tweetText'].astype(str) + '<' + \\\n",
    "              train_data['userId'].astype(str) + '<' + \\\n",
    "              train_data['timestamp'].astype(str) + '<' + \\\n",
    "              train_data['imageId(s)'].astype(str)\n",
    "    y_train = train_data['label']\n",
    "\n",
    "    # Replace image IDs with generated IDs in testing data\n",
    "    test_data['imageId(s)'] = test_data['imageId(s)'].map(image_id_dict)\n",
    "    # Preprocess text and replace labels in testing dataset\n",
    "    test_data['tweetText'] = test_data['tweetText'].apply(preprocess_text)\n",
    "    test_data['label'] = test_data['label'].replace('humor', 'fake')\n",
    "    # Select relevant columns for features\n",
    "    X_test = test_data['tweetText'].astype(str) + '<' + \\\n",
    "             test_data['userId'].astype(str) + '<' + \\\n",
    "             test_data['timestamp'].astype(str) + '<' + \\\n",
    "             test_data['imageId(s)'].astype(str)\n",
    "    y_test = test_data['label']\n",
    "\n",
    "    return X_train, y_train, X_test, y_test"
   ],
   "metadata": {
    "collapsed": false,
    "ExecuteTime": {
     "end_time": "2024-01-12T01:26:15.397181Z",
     "start_time": "2024-01-12T01:26:15.396129Z"
    }
   },
   "id": "78ee1abe98cfb348"
  },
  {
   "cell_type": "markdown",
   "source": [
    "By calling load_and_preprocess_data(), load the training and testing set\n",
    "Initialize the pipeline using TF-IDF as feature extractor and multinomial Naive Bayes as classifier.\n",
    "Computes class weights to handle class imbalance in the data.\n",
    "A grid search is performed to optimize the hyperparameters of the TF-IDF vectorizer and the Naive Bayes classifier, using a 10-fold cross-validation and aiming to maximize the weighted F1 score.\n",
    "After training, the best model is updated to incorporate the previously computed class weights into the Naive Bayes classifier, which helps to adjust the model for imbalanced classes."
   ],
   "metadata": {
    "collapsed": false
   },
   "id": "fe654f3a21cdcb2f"
  },
  {
   "cell_type": "code",
   "execution_count": 38,
   "outputs": [
    {
     "data": {
      "text/plain": "Pipeline(steps=[('tfidf_vectorizer', TfidfVectorizer(max_features=3700)),\n                ('naive_bayes',\n                 MultinomialNB(alpha=0.1,\n                               class_prior={0: 0.7629863189397178,\n                                            1: 1.450619792725056}))])",
      "text/html": "<style>#sk-container-id-5 {color: black;}#sk-container-id-5 pre{padding: 0;}#sk-container-id-5 div.sk-toggleable {background-color: white;}#sk-container-id-5 label.sk-toggleable__label {cursor: pointer;display: block;width: 100%;margin-bottom: 0;padding: 0.3em;box-sizing: border-box;text-align: center;}#sk-container-id-5 label.sk-toggleable__label-arrow:before {content: \"▸\";float: left;margin-right: 0.25em;color: #696969;}#sk-container-id-5 label.sk-toggleable__label-arrow:hover:before {color: black;}#sk-container-id-5 div.sk-estimator:hover label.sk-toggleable__label-arrow:before {color: black;}#sk-container-id-5 div.sk-toggleable__content {max-height: 0;max-width: 0;overflow: hidden;text-align: left;background-color: #f0f8ff;}#sk-container-id-5 div.sk-toggleable__content pre {margin: 0.2em;color: black;border-radius: 0.25em;background-color: #f0f8ff;}#sk-container-id-5 input.sk-toggleable__control:checked~div.sk-toggleable__content {max-height: 200px;max-width: 100%;overflow: auto;}#sk-container-id-5 input.sk-toggleable__control:checked~label.sk-toggleable__label-arrow:before {content: \"▾\";}#sk-container-id-5 div.sk-estimator input.sk-toggleable__control:checked~label.sk-toggleable__label {background-color: #d4ebff;}#sk-container-id-5 div.sk-label input.sk-toggleable__control:checked~label.sk-toggleable__label {background-color: #d4ebff;}#sk-container-id-5 input.sk-hidden--visually {border: 0;clip: rect(1px 1px 1px 1px);clip: rect(1px, 1px, 1px, 1px);height: 1px;margin: -1px;overflow: hidden;padding: 0;position: absolute;width: 1px;}#sk-container-id-5 div.sk-estimator {font-family: monospace;background-color: #f0f8ff;border: 1px dotted black;border-radius: 0.25em;box-sizing: border-box;margin-bottom: 0.5em;}#sk-container-id-5 div.sk-estimator:hover {background-color: #d4ebff;}#sk-container-id-5 div.sk-parallel-item::after {content: \"\";width: 100%;border-bottom: 1px solid gray;flex-grow: 1;}#sk-container-id-5 div.sk-label:hover label.sk-toggleable__label {background-color: #d4ebff;}#sk-container-id-5 div.sk-serial::before {content: \"\";position: absolute;border-left: 1px solid gray;box-sizing: border-box;top: 0;bottom: 0;left: 50%;z-index: 0;}#sk-container-id-5 div.sk-serial {display: flex;flex-direction: column;align-items: center;background-color: white;padding-right: 0.2em;padding-left: 0.2em;position: relative;}#sk-container-id-5 div.sk-item {position: relative;z-index: 1;}#sk-container-id-5 div.sk-parallel {display: flex;align-items: stretch;justify-content: center;background-color: white;position: relative;}#sk-container-id-5 div.sk-item::before, #sk-container-id-5 div.sk-parallel-item::before {content: \"\";position: absolute;border-left: 1px solid gray;box-sizing: border-box;top: 0;bottom: 0;left: 50%;z-index: -1;}#sk-container-id-5 div.sk-parallel-item {display: flex;flex-direction: column;z-index: 1;position: relative;background-color: white;}#sk-container-id-5 div.sk-parallel-item:first-child::after {align-self: flex-end;width: 50%;}#sk-container-id-5 div.sk-parallel-item:last-child::after {align-self: flex-start;width: 50%;}#sk-container-id-5 div.sk-parallel-item:only-child::after {width: 0;}#sk-container-id-5 div.sk-dashed-wrapped {border: 1px dashed gray;margin: 0 0.4em 0.5em 0.4em;box-sizing: border-box;padding-bottom: 0.4em;background-color: white;}#sk-container-id-5 div.sk-label label {font-family: monospace;font-weight: bold;display: inline-block;line-height: 1.2em;}#sk-container-id-5 div.sk-label-container {text-align: center;}#sk-container-id-5 div.sk-container {/* jupyter's `normalize.less` sets `[hidden] { display: none; }` but bootstrap.min.css set `[hidden] { display: none !important; }` so we also need the `!important` here to be able to override the default hidden behavior on the sphinx rendered scikit-learn.org. See: https://github.com/scikit-learn/scikit-learn/issues/21755 */display: inline-block !important;position: relative;}#sk-container-id-5 div.sk-text-repr-fallback {display: none;}</style><div id=\"sk-container-id-5\" class=\"sk-top-container\"><div class=\"sk-text-repr-fallback\"><pre>Pipeline(steps=[(&#x27;tfidf_vectorizer&#x27;, TfidfVectorizer(max_features=3700)),\n                (&#x27;naive_bayes&#x27;,\n                 MultinomialNB(alpha=0.1,\n                               class_prior={0: 0.7629863189397178,\n                                            1: 1.450619792725056}))])</pre><b>In a Jupyter environment, please rerun this cell to show the HTML representation or trust the notebook. <br />On GitHub, the HTML representation is unable to render, please try loading this page with nbviewer.org.</b></div><div class=\"sk-container\" hidden><div class=\"sk-item sk-dashed-wrapped\"><div class=\"sk-label-container\"><div class=\"sk-label sk-toggleable\"><input class=\"sk-toggleable__control sk-hidden--visually\" id=\"sk-estimator-id-13\" type=\"checkbox\" ><label for=\"sk-estimator-id-13\" class=\"sk-toggleable__label sk-toggleable__label-arrow\">Pipeline</label><div class=\"sk-toggleable__content\"><pre>Pipeline(steps=[(&#x27;tfidf_vectorizer&#x27;, TfidfVectorizer(max_features=3700)),\n                (&#x27;naive_bayes&#x27;,\n                 MultinomialNB(alpha=0.1,\n                               class_prior={0: 0.7629863189397178,\n                                            1: 1.450619792725056}))])</pre></div></div></div><div class=\"sk-serial\"><div class=\"sk-item\"><div class=\"sk-estimator sk-toggleable\"><input class=\"sk-toggleable__control sk-hidden--visually\" id=\"sk-estimator-id-14\" type=\"checkbox\" ><label for=\"sk-estimator-id-14\" class=\"sk-toggleable__label sk-toggleable__label-arrow\">TfidfVectorizer</label><div class=\"sk-toggleable__content\"><pre>TfidfVectorizer(max_features=3700)</pre></div></div></div><div class=\"sk-item\"><div class=\"sk-estimator sk-toggleable\"><input class=\"sk-toggleable__control sk-hidden--visually\" id=\"sk-estimator-id-15\" type=\"checkbox\" ><label for=\"sk-estimator-id-15\" class=\"sk-toggleable__label sk-toggleable__label-arrow\">MultinomialNB</label><div class=\"sk-toggleable__content\"><pre>MultinomialNB(alpha=0.1,\n              class_prior={0: 0.7629863189397178, 1: 1.450619792725056})</pre></div></div></div></div></div></div></div>"
     },
     "execution_count": 38,
     "metadata": {},
     "output_type": "execute_result"
    }
   ],
   "source": [
    "X_train, y_train, X_test, y_test = load_and_preprocess_data()\n",
    "# Compute class weights\n",
    "class_weights = compute_class_weight('balanced', classes=np.unique(y_train), y=y_train)\n",
    "class_weight_dict = {i: weight for i, weight in enumerate(class_weights)}\n",
    "\n",
    "# Design and implement the pipeline with TF-IDF and Naive Bayes\n",
    "pipeline_tfidf_bayes = Pipeline([\n",
    "    ('tfidf_vectorizer', TfidfVectorizer()),\n",
    "    ('naive_bayes', MultinomialNB())\n",
    "])\n",
    "\n",
    "# Set up the grid search\n",
    "parameters = {\n",
    "    'tfidf_vectorizer__max_features': [3700],\n",
    "    'naive_bayes__alpha': [0.01, 0.05, 0.1, 0.2, 0.5, 0.7, 1, 1.5, 2],\n",
    "}\n",
    "grid_search = GridSearchCV(pipeline_tfidf_bayes, parameters, cv=10, n_jobs=-1, scoring='f1_weighted')\n",
    "# Train the model with grid search\n",
    "grid_search.fit(X_train, y_train)\n",
    "# Best model\n",
    "best_model = grid_search.best_estimator_\n",
    "# Update the Naive Bayes classifier in the pipeline with class weights\n",
    "best_model.set_params(naive_bayes__class_prior=class_weight_dict)"
   ],
   "metadata": {
    "collapsed": false,
    "ExecuteTime": {
     "end_time": "2024-01-12T01:26:20.875413Z",
     "start_time": "2024-01-12T01:26:15.399125Z"
    }
   },
   "id": "3f23a7b588b68f1e"
  },
  {
   "cell_type": "markdown",
   "source": [
    "Starts by predicting the test set labels using the best model obtained from the grid search. The test labels are then binarized. The model's probability predictions for the class 'real' are calculated.\n",
    "\n",
    "Next, precision and recall are computed for various thresholds, and the optimal threshold is determined by finding the maximum sum of precision and recall. This optimal threshold is then used to adjust the final predictions.\n",
    "\n",
    "The model's accuracy and classification report are generated for both the optimized predictions on the test set and the original predictions on the training set."
   ],
   "metadata": {
    "collapsed": false
   },
   "id": "75037e74a55ac702"
  },
  {
   "cell_type": "code",
   "execution_count": 39,
   "outputs": [],
   "source": [
    "# Make predictions on the test set\n",
    "y_pred_tfidf_bayes = best_model.predict(X_test)\n",
    "# Binarize the output labels for real and fake\n",
    "y_test_binarized = label_binarize(y_test, classes=['fake', 'real'])\n",
    "# Get the probability predictions\n",
    "y_scores = best_model.predict_proba(X_test)[:, 1]  # probability of being 'real'\n",
    "# Calculate precision and recall for various thresholds\n",
    "precisions, recalls, thresholds = precision_recall_curve(y_test_binarized, y_scores)\n",
    "# Find the threshold that provides the best balance between precision and recall\n",
    "optimal_idx = np.argmax(precisions + recalls)\n",
    "optimal_threshold = thresholds[optimal_idx]\n",
    "# Apply the optimal threshold to make final predictions\n",
    "y_pred_optimized = (y_scores >= optimal_threshold).astype(int)\n",
    "# Evaluate the model with the optimized threshold\n",
    "accuracy_tfidf_bayes = accuracy_score(y_test_binarized, y_pred_optimized)\n",
    "classification_rep_tfidf_bayes = classification_report(y_test_binarized, y_pred_optimized, zero_division=1, target_names=['fake', 'real'], digits= 3)\n",
    "# Evaluate the model on the training set\n",
    "y_train_pred = best_model.predict(X_train)"
   ],
   "metadata": {
    "collapsed": false,
    "ExecuteTime": {
     "end_time": "2024-01-12T01:26:21.055203Z",
     "start_time": "2024-01-12T01:26:20.868866Z"
    }
   },
   "id": "daf5f504f9e29e96"
  },
  {
   "cell_type": "markdown",
   "source": [
    "Plot the result into confusion matrix and print out the result."
   ],
   "metadata": {
    "collapsed": false
   },
   "id": "fb0ac86adb4d9546"
  },
  {
   "cell_type": "code",
   "execution_count": 40,
   "outputs": [
    {
     "data": {
      "text/plain": "<Figure size 800x600 with 2 Axes>",
      "image/png": "[encoded data removed]"
     },
     "metadata": {},
     "output_type": "display_data"
    },
    {
     "name": "stdout",
     "output_type": "stream",
     "text": [
      "Performance on Testing Set\n",
      "Accuracy: 0.9041278295605859\n",
      "Classification Report:\n",
      "              precision    recall  f1-score   support\n",
      "\n",
      "        fake      0.896     0.971     0.932      2546\n",
      "        real      0.927     0.763     0.837      1209\n",
      "\n",
      "    accuracy                          0.904      3755\n",
      "   macro avg      0.911     0.867     0.884      3755\n",
      "weighted avg      0.906     0.904     0.901      3755\n"
     ]
    }
   ],
   "source": [
    "# Confusion Matrix for the Training Set\n",
    "confusion_matrix_train = confusion_matrix(y_train, y_train_pred)\n",
    "# Confusion Matrix for the Testing Set (with Optimized Threshold)\n",
    "confusion_matrix_test = confusion_matrix(y_test_binarized, y_pred_optimized)\n",
    "def plot_confusion_matrix(conf_mat, title='Confusion Matrix', labels=['Fake', 'Real']):\n",
    "    plt.figure(figsize=(8, 6))\n",
    "    sns.heatmap(conf_mat, annot=True, fmt='g', cmap='Blues', xticklabels=labels, yticklabels=labels)\n",
    "    plt.xlabel('Predicted Label')\n",
    "    plt.ylabel('Actual Label')\n",
    "    plt.title(title)\n",
    "    plt.show()\n",
    "# Plot Confusion Matrix for Training Set\n",
    "# plot_confusion_matrix(confusion_matrix_train, title='Confusion Matrix on Training Set')\n",
    "# Plot Confusion Matrix for Testing Set (Optimized Threshold)\n",
    "plot_confusion_matrix(confusion_matrix_test, title='Confusion Matrix on Testing Set (Optimized Threshold)')\n",
    "# Print the results\n",
    "print('Performance on Testing Set')\n",
    "print(f'Accuracy: {accuracy_tfidf_bayes}')\n",
    "print('Classification Report:')\n",
    "print(classification_rep_tfidf_bayes)\n",
    "\n"
   ],
   "metadata": {
    "collapsed": false,
    "ExecuteTime": {
     "end_time": "2024-01-12T01:26:21.210270Z",
     "start_time": "2024-01-12T01:26:21.059769Z"
    }
   },
   "id": "b67ba11aea48d7ab"
  }
 ],
 "metadata": {
  "kernelspec": {
   "display_name": "Python 3",
   "language": "python",
   "name": "python3"
  },
  "language_info": {
   "codemirror_mode": {
    "name": "ipython",
    "version": 2
   },
   "file_extension": ".py",
   "mimetype": "text/x-python",
   "name": "python",
   "nbconvert_exporter": "python",
   "pygments_lexer": "ipython2",
   "version": "2.7.6"
  }
 },
 "nbformat": 4,
 "nbformat_minor": 5
}
