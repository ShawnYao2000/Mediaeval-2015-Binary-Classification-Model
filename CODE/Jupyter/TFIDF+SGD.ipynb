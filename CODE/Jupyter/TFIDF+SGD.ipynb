{
 "cells": [
  {
   "cell_type": "markdown",
   "source": [],
   "metadata": {
    "collapsed": false
   },
   "id": "4afb8ba9250efa85"
  },
  {
   "cell_type": "markdown",
   "source": [
    "#TF-IDF + SGD script\n",
    "##Preprocessing\n",
    "Import statements"
   ],
   "metadata": {
    "collapsed": false
   },
   "id": "2a23dcc0544b0132"
  },
  {
   "cell_type": "code",
   "execution_count": 33,
   "outputs": [],
   "source": [
    "from sklearn.feature_extraction.text import TfidfVectorizer\n",
    "from sklearn.linear_model import SGDClassifier\n",
    "from sklearn.pipeline import Pipeline\n",
    "from sklearn.metrics import accuracy_score, classification_report, confusion_matrix\n",
    "import matplotlib.pyplot as plt\n",
    "import seaborn as sns\n",
    "import pandas as pd\n",
    "import re\n",
    "from nltk import WordNetLemmatizer, word_tokenize, download\n",
    "from nltk.corpus import stopwords\n",
    "from sklearn.model_selection import GridSearchCV"
   ],
   "metadata": {
    "collapsed": false,
    "ExecuteTime": {
     "end_time": "2024-01-12T01:25:55.128265Z",
     "start_time": "2024-01-12T01:25:55.108574Z"
    }
   },
   "id": "9dff6bd44a4451e4"
  },
  {
   "cell_type": "markdown",
   "source": [
    "download the majority of languages in the dataset as a set, then create a union of them for further sanitation."
   ],
   "metadata": {
    "collapsed": false
   },
   "id": "c643a4dd0188a231"
  },
  {
   "cell_type": "code",
   "execution_count": 34,
   "outputs": [
    {
     "name": "stderr",
     "output_type": "stream",
     "text": [
      "[nltk_data] Downloading package stopwords to /Users/mac/nltk_data...\n",
      "[nltk_data]   Package stopwords is already up-to-date!\n"
     ]
    }
   ],
   "source": [
    "download('stopwords')\n",
    "# Create individual sets for each language's stopwords\n",
    "english_stopwords = set(stopwords.words('english'))\n",
    "spanish_stopwords = set(stopwords.words('spanish'))\n",
    "french_stopwords = set(stopwords.words('french'))\n",
    "italian_stopwords = set(stopwords.words('italian'))\n",
    "portuguese_stopwords = set(stopwords.words('portuguese'))\n",
    "finnish_stopwords = set(stopwords.words('finnish'))\n",
    "swedish_stopwords = set(stopwords.words('swedish'))\n",
    "catalan_stopwords = set(stopwords.words('catalan'))\n",
    "hungarian_stopwords = set(stopwords.words('hungarian'))\n",
    "\n",
    "# Use the union method to combine all the sets\n",
    "stop_words = english_stopwords.union(spanish_stopwords, french_stopwords, italian_stopwords, portuguese_stopwords, finnish_stopwords, swedish_stopwords, catalan_stopwords, hungarian_stopwords)"
   ],
   "metadata": {
    "collapsed": false,
    "ExecuteTime": {
     "end_time": "2024-01-12T01:25:55.139848Z",
     "start_time": "2024-01-12T01:25:55.116543Z"
    }
   },
   "id": "7cd6149733b57ec9"
  },
  {
   "cell_type": "markdown",
   "source": [
    "define the file paths"
   ],
   "metadata": {
    "collapsed": false
   },
   "id": "b3493b032ed3ad55"
  },
  {
   "cell_type": "code",
   "execution_count": 35,
   "outputs": [],
   "source": [
    "# File paths\n",
    "train_file_path = \"mediaeval-2015-trainingset.txt\"\n",
    "test_file_path = \"mediaeval-2015-testset.txt\""
   ],
   "metadata": {
    "collapsed": false,
    "ExecuteTime": {
     "end_time": "2024-01-12T01:25:55.139972Z",
     "start_time": "2024-01-12T01:25:55.124045Z"
    }
   },
   "id": "ca33ef9b69144e43"
  },
  {
   "cell_type": "markdown",
   "source": [
    "1.define the pattern of emojis\n",
    "2.preprocess_text:\n",
    "replace all urls with a placeholder [U] by pattern matching\n",
    "convert all texts to lower case\n",
    "tokenize and lemmatize all the texts\n",
    "remove all extra white spaces"
   ],
   "metadata": {
    "collapsed": false
   },
   "id": "73d487ce88bdfc39"
  },
  {
   "cell_type": "code",
   "execution_count": 36,
   "outputs": [],
   "source": [
    "emoji_pattern = re.compile(\"[\"\n",
    "        u\"\\U0001F600-\\U0001F64F\"  # emoticons\n",
    "        u\"\\U0001F300-\\U0001F5FF\"  # symbols & pictographs\n",
    "        u\"\\U0001F680-\\U0001F6FF\"  # transport & map symbols\n",
    "        u\"\\U0001F1E0-\\U0001F1FF\"  # flags (iOS)\n",
    "                           \"]+\", flags=re.UNICODE)\n",
    "\n",
    "def preprocess_text(text):\n",
    "    # Replace URLs with a placeholder\n",
    "    text = re.sub(r'http\\S+|www\\S+|https\\S+', '[U]', text, flags=re.MULTILINE)\n",
    "    # Replace emojis with ~\n",
    "    text = emoji_pattern.sub('~', text)\n",
    "    # Replace non ascii with\n",
    "    #text = re.sub(r'[^\\x00-\\x7F]+', '', text)\n",
    "    text = text.lower()\n",
    "    # Tokenize the text\n",
    "    words = word_tokenize(text)\n",
    "    # Remove stopwords\n",
    "    words = [word for word in words if word not in stop_words]\n",
    "    # Lemmatization\n",
    "    lemmatizer = WordNetLemmatizer()\n",
    "    lemmatized_words = [lemmatizer.lemmatize(word) for word in words]\n",
    "    text = ' '.join(lemmatized_words)\n",
    "    # Remove extra whitespaces\n",
    "    text = text.strip()\n",
    "    return text"
   ],
   "metadata": {
    "collapsed": false,
    "ExecuteTime": {
     "end_time": "2024-01-12T01:25:55.140466Z",
     "start_time": "2024-01-12T01:25:55.128041Z"
    }
   },
   "id": "6f464b289e5cdcc5"
  },
  {
   "cell_type": "markdown",
   "source": [
    "generate_image_id_mapping:\n",
    "for all imageId(s), in the form of <event>_<label(real/fake)>_<number>, convert them to a dictionary where they are encoded to numbers as the original id could introduce noice to the data.\n",
    "load_and_process_data:\n",
    "read all data\n",
    "for tweetText, after sanitation if they are empty, fill them with ''\n",
    "replace all humor labels with fake\n",
    "load all the data and concat them to a string, seperating each attribute with <\n",
    "return training data as X_train, label as y_train\n",
    "return testing data as X_test, label as y_test"
   ],
   "metadata": {
    "collapsed": false
   },
   "id": "617e26b0ec850ee1"
  },
  {
   "cell_type": "code",
   "execution_count": 37,
   "outputs": [],
   "source": [
    "def generate_image_id_mapping(data):\n",
    "    unique_image_ids = data['imageId(s)'].unique()\n",
    "    image_id_dict = {id: f\"{i}\" for i, id in enumerate(unique_image_ids, start=1)}\n",
    "    return image_id_dict\n",
    "\n",
    "def load_and_preprocess_data():\n",
    "    # Load training dataset\n",
    "    train_data = pd.read_csv(train_file_path, sep='\\t')\n",
    "    # Handle NaN values for tweetText\n",
    "    train_data['tweetText'] = train_data['tweetText'].fillna('')\n",
    "\n",
    "    # Load testing dataset\n",
    "    test_data = pd.read_csv(test_file_path, sep='\\t')\n",
    "    test_data['tweetText'] = test_data['tweetText'].fillna('')\n",
    "\n",
    "    # Generate image ID mapping from combined dataset\n",
    "    combined_data = pd.concat([train_data, test_data])\n",
    "    image_id_dict = generate_image_id_mapping(combined_data)\n",
    "\n",
    "    # Replace image IDs with generated IDs in training data\n",
    "    train_data['imageId(s)'] = train_data['imageId(s)'].map(image_id_dict)\n",
    "    # Preprocess text and replace labels in training dataset\n",
    "    train_data['tweetText'] = train_data['tweetText'].apply(preprocess_text)\n",
    "    train_data['label'] = train_data['label'].replace('humor', 'fake')\n",
    "    # Select relevant columns for features\n",
    "    X_train = train_data['tweetText'].astype(str) + '<' + \\\n",
    "              train_data['userId'].astype(str) + '<' + \\\n",
    "              train_data['timestamp'].astype(str) + '<' + \\\n",
    "              train_data['imageId(s)'].astype(str)\n",
    "    y_train = train_data['label']\n",
    "\n",
    "    # Replace image IDs with generated IDs in testing data\n",
    "    test_data['imageId(s)'] = test_data['imageId(s)'].map(image_id_dict)\n",
    "    # Preprocess text and replace labels in testing dataset\n",
    "    test_data['tweetText'] = test_data['tweetText'].apply(preprocess_text)\n",
    "    test_data['label'] = test_data['label'].replace('humor', 'fake')\n",
    "    # Select relevant columns for features\n",
    "    X_test = test_data['tweetText'].astype(str) + '<' + \\\n",
    "             test_data['userId'].astype(str) + '<' + \\\n",
    "             test_data['timestamp'].astype(str) + '<' + \\\n",
    "             test_data['imageId(s)'].astype(str)\n",
    "    y_test = test_data['label']\n",
    "\n",
    "    return X_train, y_train, X_test, y_test"
   ],
   "metadata": {
    "collapsed": false,
    "ExecuteTime": {
     "end_time": "2024-01-12T01:25:55.140638Z",
     "start_time": "2024-01-12T01:25:55.133386Z"
    }
   },
   "id": "78ee1abe98cfb348"
  },
  {
   "cell_type": "markdown",
   "source": [
    "By calling load_and_preprocess_data(), load the training and testing set\n",
    "Initialize the pipeline using TF-IDF as feature extractor and SGD as classifier.\n",
    "Train the model pipeline_tfidf_sgd.fit(X_train, y_train)"
   ],
   "metadata": {
    "collapsed": false
   },
   "id": "fe654f3a21cdcb2f"
  },
  {
   "cell_type": "code",
   "execution_count": 38,
   "outputs": [],
   "source": [
    "X_train, y_train, X_test, y_test = load_and_preprocess_data()\n",
    "\n",
    "# Define the pipeline\n",
    "pipeline_tfidf_sgd = Pipeline([\n",
    "    ('tfidf_vectorizer', TfidfVectorizer(max_features=3500)),\n",
    "    ('sgd', SGDClassifier())\n",
    "])\n",
    "\n",
    "# Parameters for Grid Search\n",
    "param_grid = {\n",
    "    #'sgd__loss': ['hinge', 'log', 'modified_huber'],\n",
    "    'sgd__penalty': ['l2', 'l1', 'elasticnet'],\n",
    "    'sgd__alpha': [0.0001, 0.001, 0.01, 0.2],\n",
    "    #'sgd__learning_rate': ['constant', 'optimal', 'invscaling', 'adaptive'],\n",
    "    #'sgd__eta0': [0.1, 0.01, 0.001]\n",
    "}\n",
    "\n",
    "\n",
    "# Create grid search object\n",
    "grid_search = GridSearchCV(pipeline_tfidf_sgd, param_grid, cv=5, scoring='f1_weighted')"
   ],
   "metadata": {
    "collapsed": false,
    "ExecuteTime": {
     "end_time": "2024-01-12T01:25:56.927729Z",
     "start_time": "2024-01-12T01:25:55.136862Z"
    }
   },
   "id": "3f23a7b588b68f1e"
  },
  {
   "cell_type": "markdown",
   "source": [
    "Using the trained model, predict on the test set and evaluate against the label, calculate the accuracy."
   ],
   "metadata": {
    "collapsed": false
   },
   "id": "75037e74a55ac702"
  },
  {
   "cell_type": "code",
   "execution_count": 39,
   "outputs": [
    {
     "name": "stdout",
     "output_type": "stream",
     "text": [
      "Best parameters set found on development set:\n",
      "{'sgd__alpha': 0.0001, 'sgd__penalty': 'elasticnet'}\n"
     ]
    }
   ],
   "source": [
    "# Train the model using Grid Search\n",
    "grid_search.fit(X_train, y_train)\n",
    "\n",
    "# Best parameter set\n",
    "print(\"Best parameters set found on development set:\")\n",
    "print(grid_search.best_params_)\n",
    "\n",
    "# Evaluate the model with the best parameters\n",
    "y_pred_tfidf_sgd = grid_search.predict(X_test)\n",
    "accuracy_tfidf_sgd = accuracy_score(y_test, y_pred_tfidf_sgd)\n",
    "classification_rep_tfidf_sgd = classification_report(y_test, y_pred_tfidf_sgd, zero_division=1, digits=3)"
   ],
   "metadata": {
    "collapsed": false,
    "ExecuteTime": {
     "end_time": "2024-01-12T01:26:04.467753Z",
     "start_time": "2024-01-12T01:25:56.934846Z"
    }
   },
   "id": "daf5f504f9e29e96"
  },
  {
   "cell_type": "markdown",
   "source": [
    "Plot the result into confusion matrix and print out the result."
   ],
   "metadata": {
    "collapsed": false
   },
   "id": "fb0ac86adb4d9546"
  },
  {
   "cell_type": "code",
   "execution_count": 40,
   "outputs": [
    {
     "data": {
      "text/plain": "<Figure size 800x600 with 2 Axes>",
      "image/png": "[encoded data removed]"
     },
     "metadata": {},
     "output_type": "display_data"
    },
    {
     "name": "stdout",
     "output_type": "stream",
     "text": [
      "Performance on Testing Set:\n",
      "Accuracy: 0.896404793608522\n",
      "Classification Report:\n",
      "              precision    recall  f1-score   support\n",
      "\n",
      "        fake      0.881     0.980     0.928      2546\n",
      "        real      0.944     0.721     0.818      1209\n",
      "\n",
      "    accuracy                          0.896      3755\n",
      "   macro avg      0.912     0.850     0.873      3755\n",
      "weighted avg      0.901     0.896     0.892      3755\n"
     ]
    }
   ],
   "source": [
    "# Confusion Matrix for the Testing Set\n",
    "confusion_matrix_test = confusion_matrix(y_test, y_pred_tfidf_sgd)\n",
    "\n",
    "# Function to plot confusion matrix\n",
    "def plot_confusion_matrix(conf_mat, title='Confusion Matrix', labels=['Fake', 'Real']):\n",
    "    plt.figure(figsize=(8, 6))\n",
    "    sns.heatmap(conf_mat, annot=True, fmt='g', cmap='Blues', xticklabels=labels, yticklabels=labels)\n",
    "    plt.xlabel('Predicted Label')\n",
    "    plt.ylabel('Actual Label')\n",
    "    plt.title(title)\n",
    "    plt.show()\n",
    "\n",
    "# Plot Confusion Matrix for Testing Set\n",
    "plot_confusion_matrix(confusion_matrix_test, title='Confusion Matrix on Testing Set')\n",
    "\n",
    "# Print the results for the testing set\n",
    "print('Performance on Testing Set:')\n",
    "print(f'Accuracy: {accuracy_tfidf_sgd}')\n",
    "print('Classification Report:')\n",
    "print(classification_rep_tfidf_sgd)"
   ],
   "metadata": {
    "collapsed": false,
    "ExecuteTime": {
     "end_time": "2024-01-12T01:26:04.561214Z",
     "start_time": "2024-01-12T01:26:04.468461Z"
    }
   },
   "id": "b67ba11aea48d7ab"
  }
 ],
 "metadata": {
  "kernelspec": {
   "display_name": "Python 3",
   "language": "python",
   "name": "python3"
  },
  "language_info": {
   "codemirror_mode": {
    "name": "ipython",
    "version": 2
   },
   "file_extension": ".py",
   "mimetype": "text/x-python",
   "name": "python",
   "nbconvert_exporter": "python",
   "pygments_lexer": "ipython2",
   "version": "2.7.6"
  }
 },
 "nbformat": 4,
 "nbformat_minor": 5
}
